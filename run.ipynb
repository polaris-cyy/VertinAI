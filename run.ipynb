{
 "cells": [
  {
   "cell_type": "markdown",
   "id": "24e1de79-2ea5-46c9-bdff-e8dd162eaf73",
   "metadata": {},
   "source": [
    "### 首先, 将整个项目移动进数据盘"
   ]
  },
  {
   "cell_type": "code",
   "execution_count": null,
   "id": "8dccc1d2-0f1c-46f9-befe-a3447e97257a",
   "metadata": {},
   "outputs": [],
   "source": [
    "!mv ../ /root/autodl-tmp"
   ]
  },
  {
   "cell_type": "markdown",
   "id": "6a585963-232b-49f8-9408-d6825b7d6884",
   "metadata": {},
   "source": [
    "### 设置说话人"
   ]
  },
  {
   "cell_type": "code",
   "execution_count": null,
   "id": "dc4e6a15-60a8-48fa-bc4b-16535d1f899f",
   "metadata": {},
   "outputs": [],
   "source": [
    "target_word = \"37\"\n",
    "env_name = \"Vertin\""
   ]
  },
  {
   "cell_type": "markdown",
   "id": "75435ced-15c2-46fe-a164-4733d7f3f28f",
   "metadata": {},
   "source": [
    "### 创建conda环境"
   ]
  },
  {
   "cell_type": "code",
   "execution_count": null,
   "id": "218afa3c-2b06-4509-a076-8fe418be63c2",
   "metadata": {},
   "outputs": [],
   "source": [
    "!pip install -r requirements.txt --no-dependencies"
   ]
  },
  {
   "cell_type": "code",
   "execution_count": null,
   "id": "d7e5b5af-718e-4ccd-82ff-dcade98517f2",
   "metadata": {},
   "outputs": [],
   "source": [
    "# 去paddlepaddle查看最合适的gpu版本paddle. 默认安装的是cpu版本的\n",
    "# 划重点, 必须保证cuda版本与paddlepaddle要求的完全相同!!!\n",
    "# 最好选用CUDA 11.8\n",
    "! python -m pip install paddlepaddle-gpu==2.6.2 -i https://www.paddlepaddle.org.cn/packages/stable/cu118/"
   ]
  },
  {
   "cell_type": "markdown",
   "id": "a8de2473-fdd8-453e-aa1d-aec4d97bd300",
   "metadata": {},
   "source": [
    "### 将m4s文件修复为wav和mp4文件"
   ]
  },
  {
   "cell_type": "code",
   "execution_count": null,
   "id": "6e6e98e2-fa8b-49f7-8c92-00bf8280699b",
   "metadata": {},
   "outputs": [],
   "source": [
    "!python run.py --fix=true"
   ]
  },
  {
   "cell_type": "markdown",
   "id": "7b969e8d-6d57-4ea6-a008-835528276c79",
   "metadata": {},
   "source": [
    "### 裁剪视频, 可以修改crop_size和crop_ratio"
   ]
  },
  {
   "cell_type": "code",
   "execution_count": null,
   "id": "b8876a50-56ef-4849-a76a-540206453b97",
   "metadata": {},
   "outputs": [],
   "source": [
    "# crop_ratio不要设置太大, 最好1.5-2, \n",
    "# crop_size可以手动测量\n",
    "!python run.py --crop_video=true --crop_size=\"auto\" --crop_ratio=4 --target_word={target_word}"
   ]
  },
  {
   "cell_type": "markdown",
   "id": "2d5ac698-f3b8-4b3e-98a4-57177a9fc2a6",
   "metadata": {},
   "source": [
    "### 抽帧, 用于粗采样"
   ]
  },
  {
   "cell_type": "code",
   "execution_count": null,
   "id": "5f689288-e95e-494c-b9d3-439720a1e130",
   "metadata": {},
   "outputs": [],
   "source": [
    "!python run.py --extract_frames=true"
   ]
  },
  {
   "cell_type": "code",
   "execution_count": null,
   "id": "8b2310ac-f636-4be0-8c44-f573644c533a",
   "metadata": {},
   "outputs": [],
   "source": [
    "# cpu去掉--use-tensorrt\n",
    "!python run.py --classify=true --target_word={target_word} --use_tensorrt=True"
   ]
  },
  {
   "cell_type": "markdown",
   "id": "fe43f677-b461-424c-8048-812c609fc258",
   "metadata": {},
   "source": [
    "### 细采样, 提取音视频, 合并"
   ]
  },
  {
   "cell_type": "code",
   "execution_count": null,
   "id": "fafc8da3-1b07-4bad-9860-3c8db9667929",
   "metadata": {},
   "outputs": [],
   "source": [
    "!python run.py --final_process=true --refine_intervals=true --use_tensorrt"
   ]
  },
  {
   "cell_type": "code",
   "execution_count": null,
   "id": "9000415c-d493-4b91-b4d5-1a01410bf963",
   "metadata": {},
   "outputs": [],
   "source": [
    "!python run.py --final_process=true --get_audio_segment=true"
   ]
  },
  {
   "cell_type": "code",
   "execution_count": null,
   "id": "cfa72042-b297-475f-9d06-454c6e3ac32d",
   "metadata": {},
   "outputs": [],
   "source": [
    "!python run.py --final_process=true --get_video_segment=true"
   ]
  },
  {
   "cell_type": "code",
   "execution_count": null,
   "id": "71643093-0082-42d5-90fc-40825075116e",
   "metadata": {},
   "outputs": [],
   "source": [
    "!python run.py --final_process=true --merge_audio_video=true"
   ]
  },
  {
   "cell_type": "markdown",
   "id": "56b48394-7391-4168-b03b-327695e7ee37",
   "metadata": {},
   "source": [
    "### 合并生成的mp4文件, wav文件, 将wav文件转为mp3"
   ]
  },
  {
   "cell_type": "code",
   "execution_count": null,
   "id": "fdc0c8f2-a7bb-471f-ad35-3ba5228899ad",
   "metadata": {},
   "outputs": [],
   "source": [
    "!python ./merge/merge.py --suffix=\"mp4\""
   ]
  },
  {
   "cell_type": "code",
   "execution_count": null,
   "id": "c0a5db21-dc9e-4f0e-905d-6e9eff8f9bb8",
   "metadata": {},
   "outputs": [],
   "source": [
    "!python ./merge/merge.py --suffix=\"wav\""
   ]
  },
  {
   "cell_type": "code",
   "execution_count": null,
   "id": "5812133b-5af3-4b66-9cc6-1004fccc724e",
   "metadata": {},
   "outputs": [],
   "source": [
    "!python ./merge/merge.py --to_mp3"
   ]
  },
  {
   "cell_type": "markdown",
   "id": "800d39e5-8da8-4b17-85d7-bbe791074d9a",
   "metadata": {},
   "source": [
    "### <慎用>清理所有文件"
   ]
  },
  {
   "cell_type": "code",
   "execution_count": null,
   "id": "73aec68c-c26e-4e63-a8b3-d3a25c89662b",
   "metadata": {},
   "outputs": [],
   "source": [
    "!python run.py --clear=true"
   ]
  }
 ],
 "metadata": {
  "kernelspec": {
   "display_name": "Python 3 (ipykernel)",
   "language": "python",
   "name": "python3"
  },
  "language_info": {
   "codemirror_mode": {
    "name": "ipython",
    "version": 3
   },
   "file_extension": ".py",
   "mimetype": "text/x-python",
   "name": "python",
   "nbconvert_exporter": "python",
   "pygments_lexer": "ipython3",
   "version": "3.10.8"
  }
 },
 "nbformat": 4,
 "nbformat_minor": 5
}
